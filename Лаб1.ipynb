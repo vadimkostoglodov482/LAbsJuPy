{
  "nbformat": 4,
  "nbformat_minor": 0,
  "metadata": {
    "colab": {
      "provenance": [],
      "authorship_tag": "ABX9TyNccdBMk3IWgCchL5v/gbWH",
      "include_colab_link": true
    },
    "kernelspec": {
      "name": "python3",
      "display_name": "Python 3"
    },
    "language_info": {
      "name": "python"
    }
  },
  "cells": [
    {
      "cell_type": "markdown",
      "metadata": {
        "id": "view-in-github",
        "colab_type": "text"
      },
      "source": [
        "<a href=\"https://colab.research.google.com/github/vadimkostoglodov482/LAbsJuPy/blob/main/%D0%9B%D0%B0%D0%B11.ipynb\" target=\"_parent\"><img src=\"https://colab.research.google.com/assets/colab-badge.svg\" alt=\"Open In Colab\"/></a>"
      ]
    },
    {
      "cell_type": "code",
      "execution_count": 5,
      "metadata": {
        "id": "4mP73MgC5Pss",
        "outputId": "4e8b2449-af47-425e-bc5b-34a40b97b277",
        "colab": {
          "base_uri": "https://localhost:8080/"
        }
      },
      "outputs": [
        {
          "output_type": "stream",
          "name": "stdout",
          "text": [
            "3\n"
          ]
        }
      ],
      "source": [
        "N = ord(\"V\") % 3 + 1\n",
        "print(N)"
      ]
    },
    {
      "cell_type": "markdown",
      "source": [
        "Завантаження даних з Kaggle:"
      ],
      "metadata": {
        "id": "qXgs7tCm3RDf"
      }
    },
    {
      "cell_type": "code",
      "source": [
        "import kagglehub\n",
        "\n",
        "# Download latest version\n",
        "path = kagglehub.dataset_download(\"piterfm/2022-ukraine-russian-war\")\n",
        "\n",
        "print(\"Path to dataset files:\", path)"
      ],
      "metadata": {
        "colab": {
          "base_uri": "https://localhost:8080/"
        },
        "id": "S-nZtznp3TzX",
        "outputId": "e7fc5525-be24-4870-fb19-3cd2a6fb2462"
      },
      "execution_count": 11,
      "outputs": [
        {
          "output_type": "stream",
          "name": "stdout",
          "text": [
            "Path to dataset files: /root/.cache/kagglehub/datasets/piterfm/2022-ukraine-russian-war/versions/412\n"
          ]
        }
      ]
    },
    {
      "cell_type": "markdown",
      "source": [
        "Імпортуємо бібліотеки:"
      ],
      "metadata": {
        "id": "egsR_4Xs5LOf"
      }
    },
    {
      "cell_type": "code",
      "source": [
        "import csv\n",
        "import numpy as np\n",
        "import matplotlib.pyplot as plt\n",
        "from datetime import datetime, timedelta"
      ],
      "metadata": {
        "id": "8ajJuzkE5PuH"
      },
      "execution_count": 22,
      "outputs": []
    },
    {
      "cell_type": "markdown",
      "source": [
        "Створемо функцію яка завантажить у вигляді масиву numpy, що спростить обробку"
      ],
      "metadata": {
        "id": "FKBI7UB_5cRW"
      }
    },
    {
      "cell_type": "code",
      "source": [
        "def load_column_data(filename, column_name):\n",
        "    with open(filename, 'r') as file:\n",
        "        reader = csv.reader(file)\n",
        "        headers = next(reader)  # Пропускаємо заголовки\n",
        "        column_index = headers.index(column_name)\n",
        "\n",
        "        column_data = []\n",
        "        for row in reader:\n",
        "            # Перевіряємо, що значення не порожнє\n",
        "            if row[column_index]:\n",
        "                column_data.append(int(row[column_index]))\n",
        "\n",
        "        return np.array(column_data)\n"
      ],
      "metadata": {
        "id": "VikGL_Pt5jR3"
      },
      "execution_count": 10,
      "outputs": []
    },
    {
      "cell_type": "markdown",
      "source": [
        "Створемо масиву зі значень стовпця «APC» (Armored personnel carrier)"
      ],
      "metadata": {
        "id": "2fX-pXb95r8m"
      }
    },
    {
      "cell_type": "code",
      "source": [
        "filename = f\"{path}/russia_losses_equipment.csv\"  # Замінюємо на правильний шлях\n",
        "apc_data = load_column_data(filename, 'APC')\n"
      ],
      "metadata": {
        "id": "asmu6B5W5uqv"
      },
      "execution_count": 12,
      "outputs": []
    },
    {
      "cell_type": "markdown",
      "source": [
        "Знайдемо кількість добових втрат БТР:"
      ],
      "metadata": {
        "id": "kD85nVPe5weH"
      }
    },
    {
      "cell_type": "code",
      "source": [
        "daily_losses = np.diff(apc_data)\n",
        "print(\"Добові втрати БТР:\", daily_losses)\n"
      ],
      "metadata": {
        "colab": {
          "base_uri": "https://localhost:8080/"
        },
        "id": "CgOWeL4m6i9v",
        "outputId": "6c39ce3a-6f12-451c-a2fc-c02b6248e003"
      },
      "execution_count": 13,
      "outputs": [
        {
          "output_type": "stream",
          "name": "stdout",
          "text": [
            "Добові втрати БТР: [ -39  -19  -51  -33  -30  -44  -19  -49  -27  -35  -14  -11  -30  -31\n",
            "  -21  -31  -31  -17  -32  -44  -27  -38  -42  -52  -40  -12  -40  -30\n",
            "  -52  -38  -39  -13   -3   -6   -8  -20  -40  -48  -17  -13  -19   -9\n",
            "  -19    0   -9  -21  -27  -35  -26  -24  -14  -23  -18  -14  -19  -17\n",
            "  -11  -21  -32  -25  -21  -26  -15   -7  -12  -35  -24  -17  -17   -5\n",
            "  -13   -9   -9   -9  -29   -8  -31  -17  -27   -8  -42  -20  -38   -8\n",
            "  -21  -24  -11  -26  -13  -20  -17  -46  -15  -19  -12   -9  -36  -15\n",
            "  -32  -24  -23  -17  -11  -19  -40  -16  -18  -11  -17  -17  -16  -26\n",
            "  -19  -25  -21   -9  -19  -18  -15  -15  -11  -35  -18  -12  -20  -18\n",
            "   -6  -29  -26  -21  -11  -32  -13  -26   -9  -20  -40  -16  -18  -22\n",
            "  -33  -12  -22  -22  -33  -40  -15  -17  -11  -27  -27  -22  -34  -35\n",
            "  -35  -43  -14  -30  -48  -43  -42  -22  -40  -32  -35  -19  -14  -34\n",
            "  -23  -27  -33  -29  -21  -39  -16  -20  -14  -15  -14  -12  -12   -8\n",
            "  -23  -21  -17   -8  -18  -13  -31  -20  -47  -19  -12  -47  -45  -24\n",
            "  -54  -38  -73  -18  -18  -29  -17  -20  -20  -27  -21   -9  -24  -25\n",
            "  -28  -19  -37  -16   -9  -35  -17  -24  -24  -11  -17  -20  -27  -24\n",
            "  -27  -25  -19  -51  -40  -28  -21  -28  -29  -30  -44  -14  -16  -37\n",
            "  -16  -15  -37  -35  -70  -36  -34  -53  -16  -39  -47  -39  -27  -21\n",
            "  -14  -21  -22  -20  -22  -35   -4  -13  -13  -19  -16  -32  -29  -25\n",
            "  -19  -15  -16  -42  -31  -59  -23  -11  -10  -35  -38  -14  -36  -20\n",
            "  -33  -15  -16  -22  -13   -9  -14  -22  -16  -14  -21   -7  -13  -17\n",
            "  -17  -20  -18  -42  -17  -37  -31  -17  -28  -18  -31  -23  -19  -60\n",
            "  -25  -13  -38  -22  -15  -19  -31  -10  -11  -26  -26  -40  -15   -5\n",
            "  -11  -13  -32  -28  -27   -3   -3  -16   -7  -32  -36  -14   -6   -2\n",
            "  -25   -9  -11  -17  -18   -7   -6  -32  -24   -3  -18  -22  -16   -5\n",
            "  -14  -38  -24  -43  -30  -29  -17   -9  -23  -11  -18  -28  -16  -22\n",
            "  -19  -55 -120  -17  -15  -20  -23  -25  -24  -49  -44  -91   -3   -3\n",
            "  -21  -20  -30  -26  -18   -8   -9   -7  -12  -10  -12   -4  -19  -13\n",
            "   -2  -21   -8  -15  -17  -17   -6   -4  -10   -4  -18  -14  -11  -12\n",
            "  -16  -13  -23  -21  -12   -7  -14  -12  -24   -9   -8  -17  -17   -8\n",
            "  -15  -18  -10  -23  -12  -27  -14  -11  -14  -12  -18  -10  -16  -19\n",
            "  -11   -6  -15  -13  -12   -8   -8  -11   -2  -15  -21   -8  -17  -10\n",
            "  -11   -6  -14  -11   -5  -13  -13   -9  -16  -15   -6   -8  -17   -8\n",
            "   -7  -11   -9   -9   -7  -17   -2  -11   -9  -12  -15   -9   -9  -11\n",
            "  -20   -5   -6  -10  -13  -14  -14   -2   -6  -15  -12  -21  -15   -6\n",
            "  -23  -23  -16  -14  -11   -6   -5  -24   -7  -24  -16  -17  -20  -11\n",
            "  -10  -12  -12   -6   -3   -2  -11  -14   -7   -3   -8   -5  -12   -9\n",
            "  -16   -5   -4   -8  -17  -12  -11  -18  -12   -8  -12  -18   -4   -5\n",
            "  -10  -14   -8  -17   -6   -1   -3   -5   -3   -3  -16  -11  -12   -8\n",
            "   -1   -4   -6  -10  -12  -11   -4  -10   -4  -16  -10   -5  -10   -4\n",
            "   -4   -4   -3   -8   -6   -6   -7   -5   -4   -3   -8    0  -13   -6\n",
            "  -15  -11  -23  -11   -8  -10  -16  -23   -7  -13  -11  -10  -15   -5\n",
            "   -7  -20   -6  -13   -9  -11  -11   -9  -10  -15  -20   -8   -9   -6\n",
            "   -6   -9   -7  -24   -7   -9   -8  -12  -13   -3  -10   -7   -8   -4\n",
            "  -14   -3   -3  -10  -15  -28  -10  -11   -6   -6    0   -4   -9   -3\n",
            "  -22   -4   -6  -27  -23   -8   -8  -12  -15   -6  -20    0  -11  -21\n",
            "  -10   -6   -8    0   -5   -7  -17   -5   -1  -16   -2   -6   -7   -9\n",
            "   -9  -16  -12  -10  -13   -7   -7  -16   -8   -5   -2   -5   -5   -6\n",
            "   -5   -6   -6   -9   -7   -2   -8   -3   -5   -1   -2   -4   -5   -8\n",
            "   -6   -3   -6   -5   -6   -5   -5   -8   -4   -7   -5   -5   -5   -5\n",
            "   -2   -7   -4   -7  -24  -25   -6  -12  -34  -14  -16  -12  -24  -19\n",
            "  -10  -21  -28  -27  -24  -16  -32  -52  -23  -14  -13  -30  -26  -11\n",
            "  -18   -8   -3  -20  -16  -14  -12  -14   -7   -5   14  -19  -13  -16\n",
            "  -22  -18  -29  -26  -20  -27  -16  -26  -17  -23  -20   -8  -24  -25\n",
            "  -25  -11  -20  -28  -24   -4   -2  -17  -11   -8  -17   -3  -22  -23\n",
            "  -33   -9  -18  -37  -36  -25  -29  -27  -37  -21  -33  -18  -25  -12\n",
            "   -3   -3   -6   -2   -5   -8   -6  -12  -17  -16  -17  -10  -11  -15\n",
            "  -11   -7   -8  -14  -10   -6  -15   -4  -19   -6   -4   -8   -3   -7\n",
            "   -9   -8   -8   -8  -12   -9   -8  -13   -9   -8   -7  -13   -6   -7\n",
            "   -5   -8  -34    0   -3   -1   -5   -8   -4  -14   -8  -17  -28    0\n",
            "   -7   -1  -10   -6  -16  -17  -28  -14   -8   -5  -18   -8  -18  -11\n",
            "   -4  -10  -18  -17  -25  -11   -8  -18  -16  -12   -9  -13  -16   -8\n",
            "  -13  -13  -12  -11  -41  -20  -12  -12  -12  -11  -22  -19  -28  -25\n",
            "  -25  -26  -27  -20  -34  -35  -16  -24  -34  -27  -17  -48  -44  -23\n",
            "  -28  -27  -35  -41  -43  -48  -48  -26  -27  -29  -47  -34  -50  -20\n",
            "  -33  -43  -44  -31  -24  -22  -39  -20   -6   -8   -4  -18  -23  -12\n",
            "  -16   -4    0  -30   -3  -14  -14  -54  -25  -16  -12  -13  -16  -30\n",
            "  -24  -15  -28  -19  -22  -21  -48  -17  -22  -13  -60  -96  -30  -23\n",
            "  -21  -40  -60  -35  -34  -37  -14  -40   -6  -39  -38  -16  -30 -110\n",
            "    0 -190]\n"
          ]
        }
      ]
    },
    {
      "cell_type": "markdown",
      "source": [
        "Пошук 5 найбільших добових втрат БТР"
      ],
      "metadata": {
        "id": "KIA6eafU6psX"
      }
    },
    {
      "cell_type": "code",
      "source": [
        "top_5_losses = np.sort(daily_losses)[-5:]\n",
        "print(\"5 найбільших добових втрат БТР:\", top_5_losses)\n"
      ],
      "metadata": {
        "colab": {
          "base_uri": "https://localhost:8080/"
        },
        "id": "yPE5dr9p6rB2",
        "outputId": "053d61b1-0fec-4afd-f2af-dcd974a97fe5"
      },
      "execution_count": 16,
      "outputs": [
        {
          "output_type": "stream",
          "name": "stdout",
          "text": [
            "5 найбільших добових втрат БТР: [ 0  0  0  0 14]\n"
          ]
        }
      ]
    },
    {
      "cell_type": "markdown",
      "source": [
        "Знайдемо кількість знищених БТР влітку 2023 року. Для цього нам потрібно визначити індекси днів, що припадають на літо 2023 року. Вважаємо, що дати йдуть послідовно, тож можна знайти відповідні індекси за допомогою масиву дат.\n",
        "---\n",
        "\n"
      ],
      "metadata": {
        "id": "GiFJSFjy6wHO"
      }
    },
    {
      "cell_type": "code",
      "source": [
        "\n",
        "# Припускаємо, що дані починаються з певної дати. Задайте реальну стартову дату, наприклад:\n",
        "start_date = datetime.strptime('2022-02-24', '%Y-%m-%d')  # Змінити на відповідну дату\n",
        "dates = [start_date + timedelta(days=i) for i in range(len(apc_data))]\n",
        "\n",
        "# Фільтруємо дані за літо 2023\n",
        "summer_2023_losses = [\n",
        "    loss for date, loss in zip(dates, apc_data)\n",
        "    if date >= datetime(2023, 6, 1) and date <= datetime(2023, 8, 31)\n",
        "]\n",
        "total_summer_2023_losses = sum(summer_2023_losses)\n",
        "print(\"Кількість знищених БТР влітку 2023 року:\", total_summer_2023_losses)\n",
        "\n"
      ],
      "metadata": {
        "colab": {
          "base_uri": "https://localhost:8080/"
        },
        "id": "_f8OUaSM7Z5n",
        "outputId": "323b37de-2c5f-43f7-92d1-0a4548639a48"
      },
      "execution_count": 24,
      "outputs": [
        {
          "output_type": "stream",
          "name": "stdout",
          "text": [
            "Кількість знищених БТР влітку 2023 року: 692250\n"
          ]
        }
      ]
    },
    {
      "cell_type": "markdown",
      "source": [
        "Тепер знайдемо середнє значення знищених БТР за 100-500 днів війни"
      ],
      "metadata": {
        "id": "LNajDhwx8Ipn"
      }
    },
    {
      "cell_type": "code",
      "source": [
        "average_losses = np.mean(apc_data[100:500])\n",
        "print(\"Середнє значення знищених БТР за 100-500 днів:\", average_losses)\n"
      ],
      "metadata": {
        "colab": {
          "base_uri": "https://localhost:8080/"
        },
        "id": "UMqkR5RE8REf",
        "outputId": "5f3dc628-a1ca-48bc-da07-4a5a9ff3602c"
      },
      "execution_count": 25,
      "outputs": [
        {
          "output_type": "stream",
          "name": "stdout",
          "text": [
            "Середнє значення знищених БТР за 100-500 днів: 11208.66\n"
          ]
        }
      ]
    },
    {
      "cell_type": "markdown",
      "source": [
        "Побудова графіка втрат БТР за останні 200 днів"
      ],
      "metadata": {
        "id": "AfDuQTUG8cCP"
      }
    },
    {
      "cell_type": "code",
      "source": [
        "plt.figure(figsize=(8, 16), dpi=100)\n",
        "plt.plot(range(200), apc_data[-200:], linestyle='--', color='b', label='Втрати БТР')\n",
        "\n",
        "plt.title(\"Втрати БТР за останні 200 днів\")\n",
        "plt.xlabel(\"Дні\")\n",
        "plt.ylabel(\"Кількість знищених БТР\")\n",
        "plt.legend()\n",
        "plt.grid(True, color='gray', linestyle='-', linewidth=0.5)\n",
        "plt.savefig(\"apc_losses_last_200_days.png\")\n",
        "plt.show()\n"
      ],
      "metadata": {
        "colab": {
          "base_uri": "https://localhost:8080/",
          "height": 1000
        },
        "id": "N2Ah2Ki58dGH",
        "outputId": "51fca5e4-0c51-4558-84bf-4839c7eda3c1"
      },
      "execution_count": 26,
      "outputs": [
        {
          "output_type": "display_data",
          "data": {
            "text/plain": [
              "<Figure size 800x1600 with 1 Axes>"
            ],
            "image/png": "[encoded data removed]"
          },
          "metadata": {}
        }
      ]
    },
    {
      "cell_type": "markdown",
      "source": [
        "**Підсумок**\n",
        "\n",
        "У ході лабораторної роботи були здобуті базові навички аналізу та візуалізації даних з використанням Python. На основі даних про втрати військової техніки вдалося виконати реалізацію функцію для завантаження даних з файлу CSV та створено масив даних із втрат бронетранспортерів (БТР), розрахування добової втрати БТР, визначено п’ять найбільших значень цих втрат, а також підраховано загальні втрати БТР у літні місяці 2023 року, розрахування середнього значення втрат БТР за період з 100-го по 500-й день війни. Було побудовано графік втрат БТР за останні 200 днів, який містить необхідні елементи форматування, такі як підписи осей, легенду, сітку тощо. Ця робота дозволила закріпити основи роботи з бібліотеками numpy для обробки числових даних і matplotlib для візуалізації, що є ключовими навичками для подальшого аналізу та інтерпретації даних."
      ],
      "metadata": {
        "id": "wy6t0Mop8pnf"
      }
    }
  ]
}