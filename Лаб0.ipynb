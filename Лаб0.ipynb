{
  "nbformat": 4,
  "nbformat_minor": 0,
  "metadata": {
    "colab": {
      "provenance": [],
      "toc_visible": true,
      "authorship_tag": "ABX9TyN9WNrIgppJ5mrX79ZdjUMn",
      "include_colab_link": true
    },
    "kernelspec": {
      "name": "python3",
      "display_name": "Python 3"
    },
    "language_info": {
      "name": "python"
    }
  },
  "cells": [
    {
      "cell_type": "markdown",
      "metadata": {
        "id": "view-in-github",
        "colab_type": "text"
      },
      "source": [
        "<a href=\"https://colab.research.google.com/github/vadimkostoglodov482/LAbsJuPy/blob/main/%D0%9B%D0%B0%D0%B10.ipynb\" target=\"_parent\"><img src=\"https://colab.research.google.com/assets/colab-badge.svg\" alt=\"Open In Colab\"/></a>"
      ]
    },
    {
      "cell_type": "markdown",
      "source": [],
      "metadata": {
        "id": "gIi_yQuYzrsT"
      }
    },
    {
      "cell_type": "code",
      "source": [
        "N = ord(\"V\") % 10 + 1\n",
        "print(N)"
      ],
      "metadata": {
        "colab": {
          "base_uri": "https://localhost:8080/"
        },
        "id": "BbCXaooI0ZoZ",
        "outputId": "7eec080a-f00a-4918-d9c0-69f9466b4886"
      },
      "execution_count": null,
      "outputs": [
        {
          "output_type": "stream",
          "name": "stdout",
          "text": [
            "7\n"
          ]
        }
      ]
    },
    {
      "cell_type": "code",
      "source": [
        "from IPython.display import display, HTML, Markdown\n",
        "# Виведемо інформацію про Ісландію з використанням заголовків, списків і таблиць\n",
        "markdown_content = \"\"\"\n",
        "# Ісландія\n",
        "## Основна інформація\n",
        "**Площа:** 103,000 км²\n",
        "**Населення:** 372,000\n",
        "**Державний устрій:** Парламентська республіка\n",
        "\n",
        "## Відомі персоналії\n",
        "- Халльдоур Лакснесс (Нобелівський лауреат з літератури)\n",
        "- Вігдіс Фіннбогадоттір (перша жінка-президент)\n",
        "\n",
        "## Пам'ятки культури та природи\n",
        "- Водоспад Гюдльфосс\n",
        "- Національний парк Тінгведлір\n",
        "- Блакитна лагуна\n",
        "\"\"\"\n",
        "\n",
        "# Таблиця про основні факти\n",
        "html_table = \"\"\"\n",
        "<table border=\"1\">\n",
        "    <tr><th>Факт</th><th>Значення</th></tr>\n",
        "    <tr><td>Площа</td><td>103,000 км²</td></tr>\n",
        "    <tr><td>Населення</td><td>372,000</td></tr>\n",
        "    <tr><td>Державний устрій</td><td>Парламентська республіка</td></tr>\n",
        "</table>\n",
        "\"\"\"\n",
        "\n",
        "# Виведемо списки та текст з різними символами\n",
        "html_lists = \"\"\"\n",
        "<ul>\n",
        "    <li><i>Курсивний текст</i></li>\n",
        "    <li><b>Напівжирний текст</b></li>\n",
        "    <li><span style=\"color:blue\">Синій текст</span></li>\n",
        "</ul>\n",
        "\"\"\"\n",
        "\n",
        "# SVG прапор Ісландії\n",
        "svg_flag = \"\"\"\n",
        "<svg xmlns=\"http://www.w3.org/2000/svg\" width=\"300\" height=\"200\">\n",
        "  <rect width=\"300\" height=\"200\" fill=\"#003897\"/>\n",
        "  <rect x=\"75\" width=\"50\" height=\"200\" fill=\"#fff\"/>\n",
        "  <rect y=\"75\" width=\"300\" height=\"50\" fill=\"#fff\"/>\n",
        "  <rect x=\"90\" width=\"20\" height=\"200\" fill=\"#d72828\"/>\n",
        "  <rect y=\"90\" width=\"300\" height=\"20\" fill=\"#d72828\"/>\n",
        "</svg>\n",
        "\"\"\"\n",
        "\n",
        "# Виведення контенту\n",
        "display(Markdown(markdown_content))\n",
        "display(HTML(html_table))\n",
        "display(HTML(html_lists))\n",
        "display(HTML(svg_flag))\n"
      ],
      "metadata": {
        "colab": {
          "base_uri": "https://localhost:8080/",
          "height": 730
        },
        "id": "rimEzbrS0dth",
        "outputId": "c89cc589-88f1-4362-e481-f696503c5454"
      },
      "execution_count": null,
      "outputs": [
        {
          "output_type": "display_data",
          "data": {
            "text/plain": [
              "<IPython.core.display.Markdown object>"
            ],
            "text/markdown": "\n# Ісландія\n## Основна інформація\n**Площа:** 103,000 км²  \n**Населення:** 372,000  \n**Державний устрій:** Парламентська республіка  \n\n## Відомі персоналії\n- Халльдоур Лакснесс (Нобелівський лауреат з літератури)\n- Вігдіс Фіннбогадоттір (перша жінка-президент)\n\n## Пам'ятки культури та природи\n- Водоспад Гюдльфосс\n- Національний парк Тінгведлір\n- Блакитна лагуна\n"
          },
          "metadata": {}
        },
        {
          "output_type": "display_data",
          "data": {
            "text/plain": [
              "<IPython.core.display.HTML object>"
            ],
            "text/html": [
              "\n",
              "<table border=\"1\">\n",
              "    <tr><th>Факт</th><th>Значення</th></tr>\n",
              "    <tr><td>Площа</td><td>103,000 км²</td></tr>\n",
              "    <tr><td>Населення</td><td>372,000</td></tr>\n",
              "    <tr><td>Державний устрій</td><td>Парламентська республіка</td></tr>\n",
              "</table>\n"
            ]
          },
          "metadata": {}
        },
        {
          "output_type": "display_data",
          "data": {
            "text/plain": [
              "<IPython.core.display.HTML object>"
            ],
            "text/html": [
              "\n",
              "<ul>\n",
              "    <li><i>Курсивний текст</i></li>\n",
              "    <li><b>Напівжирний текст</b></li>\n",
              "    <li><span style=\"color:blue\">Синій текст</span></li>\n",
              "</ul>\n"
            ]
          },
          "metadata": {}
        },
        {
          "output_type": "display_data",
          "data": {
            "text/plain": [
              "<IPython.core.display.HTML object>"
            ],
            "text/html": [
              "\n",
              "<svg xmlns=\"http://www.w3.org/2000/svg\" width=\"300\" height=\"200\">\n",
              "  <rect width=\"300\" height=\"200\" fill=\"#003897\"/>\n",
              "  <rect x=\"75\" width=\"50\" height=\"200\" fill=\"#fff\"/>\n",
              "  <rect y=\"75\" width=\"300\" height=\"50\" fill=\"#fff\"/>\n",
              "  <rect x=\"90\" width=\"20\" height=\"200\" fill=\"#d72828\"/>\n",
              "  <rect y=\"90\" width=\"300\" height=\"20\" fill=\"#d72828\"/>\n",
              "</svg>\n"
            ]
          },
          "metadata": {}
        }
      ]
    },
    {
      "cell_type": "code",
      "source": [
        "def task_7():\n",
        "    # Введення числа від користувача\n",
        "    num = float(input(\"Введіть число:\"))\n",
        "\n",
        "    def int_to_bin(n):\n",
        "        return bin(n)[2:] if n != 0 else \"0\"\n",
        "\n",
        "    def frac_to_bin(frac):\n",
        "        binary = []\n",
        "        while frac and len(binary) < 10:  # обмежуємо точність до 10 бітів\n",
        "            frac *= 2\n",
        "            bit = int(frac)\n",
        "            binary.append(str(bit))\n",
        "            frac -= bit\n",
        "        return ''.join(binary) if binary else \"0\"\n",
        "\n",
        "    # Виділяємо цілу та дробову частини числа\n",
        "    whole, frac = divmod(abs(num), 1)\n",
        "    result = int_to_bin(int(whole))  # обробка цілої частини\n",
        "\n",
        "    # Якщо є дробова частина, додаємо її\n",
        "    if frac > 0:\n",
        "        result += '.' + frac_to_bin(frac)\n",
        "\n",
        "    # Формуємо двійкове представлення з рискою\n",
        "    sign = '1' if num < 0 else '0'\n",
        "    final_result = f\"{sign}|{result}\"\n",
        "\n",
        "    # Виводимо результат у потрібному форматі\n",
        "    return f\"{num} у двійковій системі буде {final_result}\"\n",
        "\n",
        "print(task_7())\n",
        "print(task_7())\n",
        "\n"
      ],
      "metadata": {
        "id": "oJXsGK2F5zZZ",
        "colab": {
          "base_uri": "https://localhost:8080/"
        },
        "outputId": "b2618754-a57a-4c3d-be38-68804eaef1c4"
      },
      "execution_count": null,
      "outputs": [
        {
          "output_type": "stream",
          "name": "stdout",
          "text": [
            "Введіть число:45\n",
            "45.0 у двійковій системі буде 0|101101\n",
            "Введіть число:44\n",
            "44.0 у двійковій системі буде 0|101100\n"
          ]
        }
      ]
    },
    {
      "cell_type": "code",
      "source": [
        "# Тестування\n",
        "\n",
        "# Введення 32\n",
        "print(task_7())  # Має вивести: \"32.0 у двійковій системі буде 0|100000\"\n",
        "# Введення -10.25\n",
        "print(task_7())  # Має вивести: \"-10.25 у двійковій системі буде 1|1010.01\"\n",
        "\n"
      ],
      "metadata": {
        "colab": {
          "base_uri": "https://localhost:8080/"
        },
        "id": "9w9S3Q_lndGF",
        "outputId": "9bdde9d9-7ada-4d69-c083-4b3188239f37"
      },
      "execution_count": null,
      "outputs": [
        {
          "output_type": "stream",
          "name": "stdout",
          "text": [
            "Введіть число:32\n",
            "32.0 у двійковій системі буде 0|100000\n",
            "Введіть число:-10.25\n",
            "-10.25 у двійковій системі буде 1|1010.01\n"
          ]
        }
      ]
    }
  ]
}